{
 "cells": [
  {
   "cell_type": "code",
   "execution_count": 1,
   "metadata": {
    "collapsed": true
   },
   "outputs": [],
   "source": [
    "import pandas as pd, numpy as np, matplotlib.pyplot as plt, time\n",
    "from sklearn.cluster import DBSCAN\n",
    "from sklearn import metrics\n",
    "from geopy.distance import great_circle\n",
    "from shapely.geometry import MultiPoint\n",
    "%matplotlib inline"
   ]
  },
  {
   "cell_type": "code",
   "execution_count": 2,
   "metadata": {
    "collapsed": true
   },
   "outputs": [],
   "source": [
    "# define the number of kilometers in one radian\n",
    "kms_per_radian = 6371.0088"
   ]
  },
  {
   "cell_type": "code",
   "execution_count": 3,
   "metadata": {
    "collapsed": false
   },
   "outputs": [
    {
     "data": {
      "text/html": [
       "<div>\n",
       "<table border=\"1\" class=\"dataframe\">\n",
       "  <thead>\n",
       "    <tr style=\"text-align: right;\">\n",
       "      <th></th>\n",
       "      <th>business</th>\n",
       "      <th>lat</th>\n",
       "      <th>lon</th>\n",
       "      <th>state</th>\n",
       "      <th>pcode</th>\n",
       "    </tr>\n",
       "  </thead>\n",
       "  <tbody>\n",
       "    <tr>\n",
       "      <th>0</th>\n",
       "      <td>6EvETd9FVPJfhT_6AW9iEw</td>\n",
       "      <td>35.352128</td>\n",
       "      <td>-80.851235</td>\n",
       "      <td>NC</td>\n",
       "      <td>28216</td>\n",
       "    </tr>\n",
       "    <tr>\n",
       "      <th>1</th>\n",
       "      <td>lHYMeXf8JH1Q8Dazn9s3Gg</td>\n",
       "      <td>35.295623</td>\n",
       "      <td>-80.754429</td>\n",
       "      <td>NC</td>\n",
       "      <td>28262</td>\n",
       "    </tr>\n",
       "    <tr>\n",
       "      <th>2</th>\n",
       "      <td>sY_hAfwWzgr0sxyMgMB5Jg</td>\n",
       "      <td>35.443015</td>\n",
       "      <td>-80.863925</td>\n",
       "      <td>NC</td>\n",
       "      <td>28078</td>\n",
       "    </tr>\n",
       "    <tr>\n",
       "      <th>3</th>\n",
       "      <td>PCNeANrp7puV3nE-HI2JrQ</td>\n",
       "      <td>35.059117</td>\n",
       "      <td>-80.811356</td>\n",
       "      <td>NC</td>\n",
       "      <td>28277</td>\n",
       "    </tr>\n",
       "    <tr>\n",
       "      <th>4</th>\n",
       "      <td>7cIRj82eLbyvNG43lemt1A</td>\n",
       "      <td>35.218163</td>\n",
       "      <td>-80.861911</td>\n",
       "      <td>NC</td>\n",
       "      <td>28203</td>\n",
       "    </tr>\n",
       "  </tbody>\n",
       "</table>\n",
       "</div>"
      ],
      "text/plain": [
       "                  business        lat        lon state   pcode\n",
       "0  6EvETd9FVPJfhT_6AW9iEw   35.352128 -80.851235   NC    28216\n",
       "1  lHYMeXf8JH1Q8Dazn9s3Gg   35.295623 -80.754429   NC    28262\n",
       "2  sY_hAfwWzgr0sxyMgMB5Jg   35.443015 -80.863925   NC    28078\n",
       "3  PCNeANrp7puV3nE-HI2JrQ   35.059117 -80.811356   NC    28277\n",
       "4  7cIRj82eLbyvNG43lemt1A   35.218163 -80.861911   NC    28203"
      ]
     },
     "execution_count": 3,
     "metadata": {},
     "output_type": "execute_result"
    }
   ],
   "source": [
    "# load the data set\n",
    "df = pd.read_csv('./local2.csv', encoding='utf-8')\n",
    "df.head()"
   ]
  },
  {
   "cell_type": "code",
   "execution_count": 4,
   "metadata": {
    "collapsed": true
   },
   "outputs": [],
   "source": [
    "# represent points consistently as (lat, lon)\n",
    "coords = df.as_matrix(columns=['lat', 'lon'])\n",
    "\n",
    "# define epsilon as 1.5 kilometers, converted to radians for use by haversine\n",
    "epsilon = 1.5 / kms_per_radian"
   ]
  },
  {
   "cell_type": "code",
   "execution_count": 5,
   "metadata": {
    "collapsed": false
   },
   "outputs": [
    {
     "name": "stdout",
     "output_type": "stream",
     "text": [
      "Clustered 10,649 points down to 127 clusters, for 98.8% compression in 1.72 seconds\n",
      "Silhouette coefficient: -0.211\n"
     ]
    }
   ],
   "source": [
    "start_time = time.time()\n",
    "db = DBSCAN(eps=epsilon, min_samples=1, algorithm='ball_tree', metric='haversine').fit(np.radians(coords))\n",
    "cluster_labels = db.labels_\n",
    "\n",
    "# get the number of clusters\n",
    "num_clusters = len(set(cluster_labels))\n",
    "\n",
    "# all done, print the outcome\n",
    "message = 'Clustered {:,} points down to {:,} clusters, for {:.1f}% compression in {:,.2f} seconds'\n",
    "print(message.format(len(df), num_clusters, 100*(1 - float(num_clusters) / len(df)), time.time()-start_time))\n",
    "print('Silhouette coefficient: {:0.03f}'.format(metrics.silhouette_score(coords, cluster_labels)))"
   ]
  },
  {
   "cell_type": "code",
   "execution_count": 6,
   "metadata": {
    "collapsed": true
   },
   "outputs": [],
   "source": [
    "# turn the clusters in to a pandas series, where each element is a cluster of points\n",
    "clusters = pd.Series([coords[cluster_labels==n] for n in range(num_clusters)])"
   ]
  },
  {
   "cell_type": "code",
   "execution_count": 7,
   "metadata": {
    "collapsed": true
   },
   "outputs": [],
   "source": [
    "def get_centermost_point(cluster):\n",
    "    centroid = (MultiPoint(cluster).centroid.x, MultiPoint(cluster).centroid.y)\n",
    "    centermost_point = min(cluster, key=lambda point: great_circle(point, centroid).m)\n",
    "    return tuple(centermost_point)\n",
    "\n",
    "centermost_points = clusters.map(get_centermost_point)"
   ]
  },
  {
   "cell_type": "code",
   "execution_count": 8,
   "metadata": {
    "collapsed": false,
    "scrolled": true
   },
   "outputs": [
    {
     "data": {
      "text/html": [
       "<div>\n",
       "<table border=\"1\" class=\"dataframe\">\n",
       "  <thead>\n",
       "    <tr style=\"text-align: right;\">\n",
       "      <th></th>\n",
       "      <th>lat</th>\n",
       "      <th>lon</th>\n",
       "    </tr>\n",
       "  </thead>\n",
       "  <tbody>\n",
       "    <tr>\n",
       "      <th>122</th>\n",
       "      <td>35.039863</td>\n",
       "      <td>-80.740318</td>\n",
       "    </tr>\n",
       "    <tr>\n",
       "      <th>123</th>\n",
       "      <td>34.967913</td>\n",
       "      <td>-80.820987</td>\n",
       "    </tr>\n",
       "    <tr>\n",
       "      <th>124</th>\n",
       "      <td>35.334807</td>\n",
       "      <td>-80.624391</td>\n",
       "    </tr>\n",
       "    <tr>\n",
       "      <th>125</th>\n",
       "      <td>35.465725</td>\n",
       "      <td>-80.804398</td>\n",
       "    </tr>\n",
       "    <tr>\n",
       "      <th>126</th>\n",
       "      <td>35.441389</td>\n",
       "      <td>-80.732734</td>\n",
       "    </tr>\n",
       "  </tbody>\n",
       "</table>\n",
       "</div>"
      ],
      "text/plain": [
       "           lat        lon\n",
       "122  35.039863 -80.740318\n",
       "123  34.967913 -80.820987\n",
       "124  35.334807 -80.624391\n",
       "125  35.465725 -80.804398\n",
       "126  35.441389 -80.732734"
      ]
     },
     "execution_count": 8,
     "metadata": {},
     "output_type": "execute_result"
    }
   ],
   "source": [
    "# unzip the list of centermost points (lat, lon) tuples into separate lat and lon lists\n",
    "lats, lons = zip(*centermost_points)\n",
    "\n",
    "# from these lats/lons create a new df of one representative point for each cluster\n",
    "rep_points = pd.DataFrame({'lon':lons, 'lat':lats})\n",
    "rep_points.tail()"
   ]
  },
  {
   "cell_type": "code",
   "execution_count": 9,
   "metadata": {
    "collapsed": false
   },
   "outputs": [
    {
     "data": {
      "text/html": [
       "<div>\n",
       "<table border=\"1\" class=\"dataframe\">\n",
       "  <thead>\n",
       "    <tr style=\"text-align: right;\">\n",
       "      <th></th>\n",
       "      <th>business</th>\n",
       "      <th>lat</th>\n",
       "      <th>lon</th>\n",
       "      <th>state</th>\n",
       "      <th>pcode</th>\n",
       "    </tr>\n",
       "  </thead>\n",
       "  <tbody>\n",
       "    <tr>\n",
       "      <th>122</th>\n",
       "      <td>Xrni9GAjKOrg4JNhE4ojIg</td>\n",
       "      <td>35.039863</td>\n",
       "      <td>-80.740318</td>\n",
       "      <td>NC</td>\n",
       "      <td>28104</td>\n",
       "    </tr>\n",
       "    <tr>\n",
       "      <th>123</th>\n",
       "      <td>dO-u3fNZOQZS13aE9FypoQ</td>\n",
       "      <td>34.967913</td>\n",
       "      <td>-80.820987</td>\n",
       "      <td>SC</td>\n",
       "      <td>29707</td>\n",
       "    </tr>\n",
       "    <tr>\n",
       "      <th>124</th>\n",
       "      <td>Lrvrjsb9ZzEtkpvqaPoUHw</td>\n",
       "      <td>35.334807</td>\n",
       "      <td>-80.624391</td>\n",
       "      <td>NC</td>\n",
       "      <td>28075</td>\n",
       "    </tr>\n",
       "    <tr>\n",
       "      <th>125</th>\n",
       "      <td>KjJQK6Pk2EsciZdt2-r1sQ</td>\n",
       "      <td>35.465725</td>\n",
       "      <td>-80.804398</td>\n",
       "      <td>NC</td>\n",
       "      <td>28036</td>\n",
       "    </tr>\n",
       "    <tr>\n",
       "      <th>126</th>\n",
       "      <td>4CeCU1e8uLw8t88BtMPeWg</td>\n",
       "      <td>35.441389</td>\n",
       "      <td>-80.732734</td>\n",
       "      <td>NC</td>\n",
       "      <td>28027</td>\n",
       "    </tr>\n",
       "  </tbody>\n",
       "</table>\n",
       "</div>"
      ],
      "text/plain": [
       "                    business        lat        lon state   pcode\n",
       "122  Xrni9GAjKOrg4JNhE4ojIg   35.039863 -80.740318   NC    28104\n",
       "123  dO-u3fNZOQZS13aE9FypoQ   34.967913 -80.820987   SC    29707\n",
       "124  Lrvrjsb9ZzEtkpvqaPoUHw   35.334807 -80.624391   NC    28075\n",
       "125  KjJQK6Pk2EsciZdt2-r1sQ   35.465725 -80.804398   NC    28036\n",
       "126  4CeCU1e8uLw8t88BtMPeWg   35.441389 -80.732734   NC    28027"
      ]
     },
     "execution_count": 9,
     "metadata": {},
     "output_type": "execute_result"
    }
   ],
   "source": [
    "# pull row from original data set where lat/lon match the lat/lon of each row of representative points\n",
    "# that way we get the full details like city, country, and date from the original dataframe\n",
    "rs = rep_points.apply(lambda row: df[(df['lat']==row['lat']) & (df['lon']==row['lon'])].iloc[0], axis=1)\n",
    "rs.to_csv('./local2-temp.csv', encoding='utf-8')\n",
    "rs.tail()"
   ]
  },
  {
   "cell_type": "code",
   "execution_count": null,
   "metadata": {
    "collapsed": true
   },
   "outputs": [],
   "source": []
  }
 ],
 "metadata": {
  "kernelspec": {
   "display_name": "Python 2",
   "language": "python",
   "name": "python2"
  },
  "language_info": {
   "codemirror_mode": {
    "name": "ipython",
    "version": 2
   },
   "file_extension": ".py",
   "mimetype": "text/x-python",
   "name": "python",
   "nbconvert_exporter": "python",
   "pygments_lexer": "ipython2",
   "version": "2.7.12"
  }
 },
 "nbformat": 4,
 "nbformat_minor": 0
}
