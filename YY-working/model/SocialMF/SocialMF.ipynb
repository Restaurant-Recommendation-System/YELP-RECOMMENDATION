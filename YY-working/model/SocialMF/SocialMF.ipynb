{
 "cells": [
  {
   "cell_type": "code",
   "execution_count": 170,
   "metadata": {
    "collapsed": false
   },
   "outputs": [],
   "source": [
    "f1 = open('user_5k_avg', 'r').read()\n",
    "user_avg = eval(f1)\n",
    "\n",
    "f2 = open('business_5k_avg', 'r').read()\n",
    "business_avg = eval(f2)\n",
    "\n",
    "f1 = open('review_5k_user', 'r').read()\n",
    "review_5k_user = eval(f1)\n",
    "\n",
    "f2 = open('review_5k_business', 'r').read()\n",
    "review_5k_business = eval(f2)\n",
    "\n",
    "f3 = open('review_5k_rating', 'r').read()\n",
    "review_5k_rating = eval(f3)\n",
    "\n",
    "f4 = open('relation_5k', 'r').read()\n",
    "relation_5k = eval(f4)\n"
   ]
  },
  {
   "cell_type": "code",
   "execution_count": 190,
   "metadata": {
    "collapsed": true
   },
   "outputs": [],
   "source": [
    "import math\n",
    "import numpy as np\n",
    "from scipy.sparse import csr_matrix\n",
    "from sklearn.utils.extmath import randomized_svd\n",
    "from sklearn.metrics import mean_squared_error\n",
    "import networkx as nx"
   ]
  },
  {
   "cell_type": "code",
   "execution_count": 142,
   "metadata": {
    "collapsed": true
   },
   "outputs": [],
   "source": [
    "num_user = 4929\n",
    "num_business = 2686\n",
    "num_review = 49486"
   ]
  },
  {
   "cell_type": "code",
   "execution_count": 143,
   "metadata": {
    "collapsed": false
   },
   "outputs": [],
   "source": [
    "row = np.array([])\n",
    "col = np.array([])\n",
    "val = np.array([])"
   ]
  },
  {
   "cell_type": "code",
   "execution_count": 144,
   "metadata": {
    "collapsed": false
   },
   "outputs": [],
   "source": [
    "Tij = csr_matrix((val,(row,col)), shape=(num_user,num_user)).toarray()\n",
    "for u in relation_5k:\n",
    "    for f in u[1]:\n",
    "        Tij[u[0]][f] = 1"
   ]
  },
  {
   "cell_type": "code",
   "execution_count": 145,
   "metadata": {
    "collapsed": false
   },
   "outputs": [],
   "source": [
    "Rij = csr_matrix((val,(row,col)), shape=(num_user,num_business)).toarray()\n",
    "for r in xrange(num_review):\n",
    "    Rij[review_5k_user[r]][review_5k_business[r]] = review_5k_rating[r]"
   ]
  },
  {
   "cell_type": "code",
   "execution_count": 146,
   "metadata": {
    "collapsed": false
   },
   "outputs": [],
   "source": [
    "Sij_norm = []\n",
    "for u in xrange(num_user):\n",
    "    Sij_norm.append(math.sqrt(np.dot(Rij[u], Rij[u])))"
   ]
  },
  {
   "cell_type": "code",
   "execution_count": 147,
   "metadata": {
    "collapsed": false
   },
   "outputs": [],
   "source": [
    "Sij = np.dot(Rij, Rij.T)"
   ]
  },
  {
   "cell_type": "code",
   "execution_count": 148,
   "metadata": {
    "collapsed": false
   },
   "outputs": [],
   "source": [
    "for i in xrange(num_user):\n",
    "    for j in xrange(num_user):\n",
    "        if Sij_norm[i] and Sij_norm[j]:\n",
    "            Sij[i][j] = Sij[i][j]/Sij_norm[i]/Sij_norm[j]\n",
    "        else: \n",
    "            Sij[i][j] = 0"
   ]
  },
  {
   "cell_type": "code",
   "execution_count": 154,
   "metadata": {
    "collapsed": false
   },
   "outputs": [],
   "source": [
    "import networkx as nx\n",
    "\n",
    "node_list = []\n",
    "for u in xrange(num_user):\n",
    "    node_list.append(u)\n"
   ]
  },
  {
   "cell_type": "code",
   "execution_count": 155,
   "metadata": {
    "collapsed": false
   },
   "outputs": [],
   "source": [
    "G=nx.Graph()\n",
    "G.add_nodes_from(node_list)\n",
    "for u in relation_5k:\n",
    "    for f in u[1]:\n",
    "        G.add_edge(u[0], f)"
   ]
  },
  {
   "cell_type": "code",
   "execution_count": 156,
   "metadata": {
    "collapsed": false
   },
   "outputs": [],
   "source": [
    "PR = nx.pagerank(G)"
   ]
  },
  {
   "cell_type": "code",
   "execution_count": 157,
   "metadata": {
    "collapsed": false
   },
   "outputs": [],
   "source": [
    "from operator import itemgetter\n",
    "sorted_PR = sorted(PR.items(), key=itemgetter(1), reverse=True)\n",
    "\n",
    "rank = {}\n",
    "for u in xrange(num_user):\n",
    "    rank[sorted_PR[u][0]] = u\n",
    "\n",
    "Ri = []\n",
    "for u in xrange(num_user):\n",
    "    Ri.append(rank[u]+1)\n",
    "\n",
    "Wi = []\n",
    "for ri in Ri:\n",
    "    Wi.append(1.0/(1.0+ math.log(ri)))    \n",
    "\n",
    "Wij = csr_matrix((val,(row,col)), shape=(num_user,num_business)).toarray()\n",
    "for i in xrange(num_user):\n",
    "    for j in xrange(num_business):\n",
    "        if Rij[i][j] > 0:\n",
    "            Wij[i][j] = math.sqrt(Wi[i])"
   ]
  },
  {
   "cell_type": "code",
   "execution_count": 158,
   "metadata": {
    "collapsed": false
   },
   "outputs": [],
   "source": []
  },
  {
   "cell_type": "code",
   "execution_count": 159,
   "metadata": {
    "collapsed": false
   },
   "outputs": [],
   "source": []
  },
  {
   "cell_type": "code",
   "execution_count": 161,
   "metadata": {
    "collapsed": false
   },
   "outputs": [],
   "source": []
  },
  {
   "cell_type": "code",
   "execution_count": 179,
   "metadata": {
    "collapsed": false
   },
   "outputs": [],
   "source": []
  },
  {
   "cell_type": "code",
   "execution_count": 199,
   "metadata": {
    "collapsed": false
   },
   "outputs": [],
   "source": [
    "uv = []\n",
    "for r in xrange(len(review_5k_rating)):\n",
    "    ubb = user_avg[review_5k_user[r]] + business_avg[review_5k_business[r]] - mu\n",
    "    delta = review_5k_rating[r] - ubb\n",
    "    weight = Wij[review_5k_user[r]][review_5k_business[r]]\n",
    "    uv.append(weight*delta) \n",
    "\n",
    "row = np.array(review_5k_business)\n",
    "col = np.array(review_5k_user)\n",
    "val = np.array(uv)\n",
    "\n",
    "ori = csr_matrix((val,(row,col)), shape=(len(business_avg),len(user_avg))).toarray()"
   ]
  },
  {
   "cell_type": "code",
   "execution_count": 200,
   "metadata": {
    "collapsed": false
   },
   "outputs": [],
   "source": [
    "n_comp = 30 # k\n",
    "n_iter = 15\n",
    "U, S, VT = randomized_svd(ori, n_components=n_comp, n_iter=n_iter, random_state=None)\n"
   ]
  },
  {
   "cell_type": "code",
   "execution_count": 208,
   "metadata": {
    "collapsed": false
   },
   "outputs": [
    {
     "data": {
      "text/plain": [
       "30"
      ]
     },
     "execution_count": 208,
     "metadata": {},
     "output_type": "execute_result"
    }
   ],
   "source": [
    "len(S[0])"
   ]
  },
  {
   "cell_type": "code",
   "execution_count": 201,
   "metadata": {
    "collapsed": false
   },
   "outputs": [
    {
     "data": {
      "text/plain": [
       "-1.0527376479251418"
      ]
     },
     "execution_count": 201,
     "metadata": {},
     "output_type": "execute_result"
    }
   ],
   "source": [
    "sum(ori[0])"
   ]
  },
  {
   "cell_type": "code",
   "execution_count": 210,
   "metadata": {
    "collapsed": false
   },
   "outputs": [],
   "source": [
    "now = np.dot(np.dot(U,S),VT)\n",
    "\n",
    "rmse = mean_squared_error(ori, now)"
   ]
  },
  {
   "cell_type": "code",
   "execution_count": 211,
   "metadata": {
    "collapsed": false
   },
   "outputs": [
    {
     "data": {
      "text/plain": [
       "0.00032205946942083551"
      ]
     },
     "execution_count": 211,
     "metadata": {},
     "output_type": "execute_result"
    }
   ],
   "source": [
    "rmse"
   ]
  },
  {
   "cell_type": "code",
   "execution_count": null,
   "metadata": {
    "collapsed": true
   },
   "outputs": [],
   "source": []
  }
 ],
 "metadata": {
  "kernelspec": {
   "display_name": "Python 2",
   "language": "python",
   "name": "python2"
  },
  "language_info": {
   "codemirror_mode": {
    "name": "ipython",
    "version": 2
   },
   "file_extension": ".py",
   "mimetype": "text/x-python",
   "name": "python",
   "nbconvert_exporter": "python",
   "pygments_lexer": "ipython2",
   "version": "2.7.12"
  }
 },
 "nbformat": 4,
 "nbformat_minor": 0
}
