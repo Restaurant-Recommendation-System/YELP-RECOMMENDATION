{
 "cells": [
  {
   "cell_type": "code",
   "execution_count": 1,
   "metadata": {
    "collapsed": false
   },
   "outputs": [],
   "source": [
    "f1 = open('user_5k_avg', 'r').read()\n",
    "user_avg = eval(f1)\n",
    "\n",
    "f2 = open('business_5k_avg', 'r').read()\n",
    "business_avg = eval(f2)\n",
    "\n",
    "f3 = open('review_5k_user', 'r').read()\n",
    "review5k_user = eval(f3)\n",
    "\n",
    "f4 = open('review_5k_business', 'r').read()\n",
    "review5k_business = eval(f4)\n",
    "\n",
    "f5 = open('review_5k_rating', 'r').read()\n",
    "review5k_rating = eval(f5)\n",
    "\n",
    "f6 = open('review_5k_text', 'r').read()\n",
    "review5k_text = eval(f6)\n",
    "\n",
    "f7 = open('relation_5k', 'r').read()\n",
    "relation = eval(f7)\n"
   ]
  },
  {
   "cell_type": "code",
   "execution_count": 2,
   "metadata": {
    "collapsed": true
   },
   "outputs": [],
   "source": [
    "import random \n",
    "import math\n",
    "import numpy as np\n",
    "from scipy.sparse import csr_matrix\n",
    "from sklearn.decomposition import NMF\n",
    "from sklearn.utils.extmath import randomized_svd\n",
    "from sklearn.decomposition import TruncatedSVD\n",
    "from scipy.sparse.linalg import svds\n",
    "from sklearn.metrics import mean_squared_error\n",
    "\n",
    "from sklearn.feature_extraction.text import TfidfVectorizer, CountVectorizer\n",
    "from sklearn.decomposition import NMF, LatentDirichletAllocation\n",
    "from nltk.tokenize import RegexpTokenizer\n",
    "from stop_words import get_stop_words\n",
    "from nltk.stem.porter import PorterStemmer\n"
   ]
  },
  {
   "cell_type": "markdown",
   "metadata": {},
   "source": [
    "<h1>Parameters</h1>"
   ]
  },
  {
   "cell_type": "code",
   "execution_count": 3,
   "metadata": {
    "collapsed": false
   },
   "outputs": [],
   "source": [
    "random_test = random.sample(xrange(len(review5k_rating)), 1000)\n",
    "\n",
    "train_user = []\n",
    "train_business = []\n",
    "train_rating = []\n",
    "train_text = []\n",
    "\n",
    "test_user = []\n",
    "test_business = []\n",
    "test_rating = []\n",
    "\n",
    "for r in xrange(len(review5k_rating)):\n",
    "    if r in random_test:\n",
    "        test_user.append(review5k_user[r])\n",
    "        test_business.append(review5k_business[r])\n",
    "        test_rating.append(review5k_rating[r])\n",
    "    else:\n",
    "        train_user.append(review5k_user[r])\n",
    "        train_business.append(review5k_business[r])\n",
    "        train_rating.append(review5k_rating[r])\n",
    "        train_text.append(review5k_text[r])\n",
    "        \n",
    "K_topic = 10\n",
    "Times = 50\n",
    "DocWord = 300\n",
    "DocTopic = 5\n",
    "\n",
    "sim_val = 0.85 # default = 0.85\n",
    "vip_val = 0.2\n",
    "lbd1 = 0.5 # Similarity effect \n",
    "lbd2 = 0.5 # relation afftect\n",
    "lbd3 = 0.5 # VIP effect"
   ]
  },
  {
   "cell_type": "markdown",
   "metadata": {},
   "source": [
    "<h1>Initialization</h1>"
   ]
  },
  {
   "cell_type": "code",
   "execution_count": 4,
   "metadata": {
    "collapsed": false
   },
   "outputs": [],
   "source": [
    "num_user = len(user_avg)\n",
    "num_business = len(business_avg)\n",
    "num_train = len(train_rating)\n",
    "num_test = len(test_rating)\n",
    "\n",
    "mu = np.mean(train_rating)\n",
    "\n",
    "def float2int(f):\n",
    "    if f < 1.5: return 1\n",
    "    if f < 2.5: return 2\n",
    "    if f < 3.5: return 3\n",
    "    if f < 4.5: return 4\n",
    "    return 5\n",
    "\n",
    "tokenizer = RegexpTokenizer(r'\\w+')\n",
    "en_stop = get_stop_words('en')\n",
    "p_stemmer = PorterStemmer()\n",
    "\n",
    "def prep(doc):\n",
    "    raw = doc.lower().replace(\"\\n\", \"\").replace(\"\\t\", \"\")\n",
    "    tokens = tokenizer.tokenize(raw)\n",
    "    stopped_tokens = [i for i in tokens if not i in en_stop]\n",
    "    texts = [p_stemmer.stem(i) for i in stopped_tokens]\n",
    "    return (\" \").join(texts)\n",
    "\n",
    "from sklearn import linear_model\n",
    "def MLR(X, Y):\n",
    "    reg = linear_model.LinearRegression()\n",
    "    reg.fit(X, Y)\n",
    "    return reg.coef_"
   ]
  },
  {
   "cell_type": "markdown",
   "metadata": {},
   "source": [
    "<h1>Basic Model</h1>"
   ]
  },
  {
   "cell_type": "code",
   "execution_count": 5,
   "metadata": {
    "collapsed": true
   },
   "outputs": [],
   "source": [
    "Ubb = []\n",
    "for i in xrange(num_user):\n",
    "    Ubb.append([])\n",
    "    for j in xrange(num_business):\n",
    "        val = user_avg[i] + business_avg[j] - mu\n",
    "        if val < 1: val = 1\n",
    "        if val > 5: val = 5\n",
    "        Ubb[i].append(val) "
   ]
  },
  {
   "cell_type": "code",
   "execution_count": 6,
   "metadata": {
    "collapsed": false
   },
   "outputs": [
    {
     "name": "stdout",
     "output_type": "stream",
     "text": [
      "0.793513010597\n"
     ]
    }
   ],
   "source": [
    "UbbPd = []\n",
    "for r in xrange(num_test):\n",
    "    UbbPd.append(Ubb[test_user[r]][test_business[r]]) \n",
    "\n",
    "#UbbPdInt = []\n",
    "#for r in UbbPd: \n",
    "#    UbbPdInt.append(float2int(r)) \n",
    "\n",
    "Ubb_rmse = mean_squared_error(test_rating, UbbPd)  \n",
    "#UbbPdInt_rmse = mean_squared_error(test_rating, UbbPdInt) \n",
    "\n",
    "print Ubb_rmse\n",
    "#print UbbPdInt_rmse"
   ]
  },
  {
   "cell_type": "code",
   "execution_count": 7,
   "metadata": {
    "collapsed": false
   },
   "outputs": [],
   "source": [
    "BasicIn = []\n",
    "for i in xrange(num_user):\n",
    "    BasicIn.append([])\n",
    "    for j in xrange(num_business):\n",
    "        val = user_avg[i] + business_avg[j] - mu\n",
    "        if val < 1: val = 1\n",
    "        if val > 5: val = 5\n",
    "        BasicIn[i].append(val) \n",
    "        \n",
    "for r in xrange(num_train):\n",
    "    BasicIn[train_user[r]][train_business[r]] = train_rating[r]\n"
   ]
  },
  {
   "cell_type": "code",
   "execution_count": 8,
   "metadata": {
    "collapsed": true
   },
   "outputs": [],
   "source": [
    "model = NMF(n_components=K_topic, init='random', random_state=0)\n",
    "U = model.fit_transform(BasicIn);\n",
    "V = model.components_;\n",
    "BasicOut = np.dot(U,V)"
   ]
  },
  {
   "cell_type": "code",
   "execution_count": null,
   "metadata": {
    "collapsed": false
   },
   "outputs": [
    {
     "name": "stdout",
     "output_type": "stream",
     "text": [
      "0.787970084353\n"
     ]
    }
   ],
   "source": [
    "BasicPd = []\n",
    "for r in xrange(num_test):\n",
    "    BasicPd.append(BasicOut[test_user[r]][test_business[r]]) \n",
    "\n",
    "#BasicPdInt = []\n",
    "#for r in BasicPd: \n",
    "#    BasicPdInt.append(float2int(r)) \n",
    "\n",
    "BasicPd_rmse = mean_squared_error(test_rating, BasicPd)  \n",
    "#BasicPdInt_rmse = mean_squared_error(test_rating, BasicPdInt) \n",
    "\n",
    "print BasicPd_rmse\n",
    "#print BasicPdInt_rmse"
   ]
  },
  {
   "cell_type": "markdown",
   "metadata": {},
   "source": [
    "<h1>Topic Model</h1>"
   ]
  },
  {
   "cell_type": "code",
   "execution_count": null,
   "metadata": {
    "collapsed": false
   },
   "outputs": [],
   "source": [
    "Breview = [\"\"]*num_business\n",
    "for r in xrange(num_train):\n",
    "    Breview[train_business[r]] += prep(train_text[r])\n",
    "\n",
    "tf_vectorizer = CountVectorizer(max_df=0.95, min_df=2, max_features=DocWord, stop_words='english')\n",
    "tf = tf_vectorizer.fit_transform(Breview)\n",
    "\n",
    "lda = LatentDirichletAllocation(n_topics=DocTopic, max_iter=5, learning_method='online',learning_offset=50.,random_state=0)\n",
    "DocTopDist = lda.fit_transform(tf)\n"
   ]
  },
  {
   "cell_type": "code",
   "execution_count": null,
   "metadata": {
    "collapsed": true
   },
   "outputs": [],
   "source": [
    "row = np.array([])\n",
    "col = np.array([])\n",
    "val = np.array([])\n",
    "\n",
    "# delta -> difference between rating and ubb [u*b], delta2 -> rating boolean\n",
    "delta = csr_matrix((val,(row,col)), shape=(num_user,num_business)).toarray()\n",
    "delta2 = csr_matrix((val,(row,col)), shape=(num_user,num_business)).toarray()\n",
    "for r in xrange(num_train):\n",
    "    delta[train_user[r]][train_business[r]] = train_rating[r] - Ubb[train_user[r]][train_business[r]]\n",
    "    delta2[train_user[r]][train_business[r]] = 1\n"
   ]
  },
  {
   "cell_type": "code",
   "execution_count": null,
   "metadata": {
    "collapsed": false
   },
   "outputs": [],
   "source": [
    "deltaReg = []\n",
    "for i in xrange(num_user):\n",
    "    X = [[0,0,0,0,0], [1,0,0,0,0], [0,1,0,0,0], [0,0,1,0,0], [0,0,0,1,0], [0,0,0,0,1]]; Y = [0,0,0,0,0,0]\n",
    "    for j in xrange(num_business):\n",
    "        if delta2[i][j]:\n",
    "            X.append(list(DocTopDist[j]))\n",
    "            Y.append(delta[i][j])\n",
    "    coef = MLR(X, Y)\n",
    "    deltaReg.append(np.dot(DocTopDist, coef))\n",
    "    "
   ]
  },
  {
   "cell_type": "code",
   "execution_count": null,
   "metadata": {
    "collapsed": false
   },
   "outputs": [],
   "source": [
    "row = np.array([])\n",
    "col = np.array([])\n",
    "val = np.array([])\n",
    "TopicIn = csr_matrix((val,(row,col)), shape=(num_user,num_business)).toarray()\n",
    "for i in xrange(num_user):\n",
    "    for j in xrange(num_business):\n",
    "        val = Ubb[i][j] + 0.8*math.atan(deltaReg[i][j])\n",
    "        if val < 1: val = 1\n",
    "        if val > 5: val = 5\n",
    "        TopicIn[i][j] = val\n",
    "\n",
    "TopicInPd = []\n",
    "for r in xrange(num_test):\n",
    "    TopicInPd.append(TopicIn[test_user[r]][test_business[r]]) \n",
    "\n",
    "TopicInPd_rmse = mean_squared_error(test_rating, TopicInPd)  \n",
    "print TopicInPd_rmse"
   ]
  },
  {
   "cell_type": "markdown",
   "metadata": {},
   "source": [
    "<h1> Social Model</h1>"
   ]
  },
  {
   "cell_type": "code",
   "execution_count": null,
   "metadata": {
    "collapsed": true
   },
   "outputs": [],
   "source": [
    "PR = {}\n",
    "for u in relation:\n",
    "    PR[u[0]] = len(u[1])\n",
    "    \n",
    "from operator import itemgetter\n",
    "sorted_PR = sorted(PR.items(), key=itemgetter(1), reverse=True)\n",
    "\n",
    "rank = {}\n",
    "for u in xrange(num_user):\n",
    "    rank[sorted_PR[u][0]] = u+1\n",
    "\n",
    "Ri = []\n",
    "for u in xrange(num_user):\n",
    "    Ri.append(rank[u])\n",
    "\n",
    "Wi = []\n",
    "for ri in Ri:\n",
    "    Wi.append(1.0/(1.0+ math.log(ri)))    \n"
   ]
  },
  {
   "cell_type": "code",
   "execution_count": null,
   "metadata": {
    "collapsed": false
   },
   "outputs": [],
   "source": [
    "row = np.array([])\n",
    "col = np.array([])\n",
    "val = np.array([])\n",
    "\n",
    "Rij = csr_matrix((val,(row,col)), shape=(num_user,num_business)).toarray()\n",
    "Sij = csr_matrix((val,(row,col)), shape=(num_user,num_business)).toarray()\n",
    "Tij = csr_matrix((val,(row,col)), shape=(num_user,num_user)).toarray()\n",
    "Uij = csr_matrix((val,(row,col)), shape=(num_user,num_user)).toarray()\n",
    "\n",
    "# user-item rating matrix. If ui gives a rating to vj, Rij is the rating score, otherwise 0\n",
    "for r in xrange(num_train):\n",
    "    Rij[train_user[r]][train_business[r]] = train_rating[r] - Ubb[train_user[r]][train_business[r]]\n",
    "    Sij[train_user[r]][train_business[r]] = 1\n",
    "       \n",
    "# user-user social relations where Tij = 1 if ui,uj has a relation and zero otherwise\n",
    "for u in relation:\n",
    "    for f in u[1]:\n",
    "        Tij[u[0]][f] = 1\n",
    "\n",
    "# VIP matrix where Uij = 1 if uj is a VIP and zero otherwise        \n",
    "for u in xrange(num_user):\n",
    "    for v in xrange(num_user):\n",
    "        if Wi[v] > vip_val:\n",
    "            Uij[u][v] = 1\n",
    "\n",
    "TR = np.dot(Tij, Rij)\n",
    "TS = np.dot(Tij, Sij)\n",
    "UR = np.dot(Uij, Rij)\n",
    "US = np.dot(Uij, Sij)"
   ]
  },
  {
   "cell_type": "code",
   "execution_count": null,
   "metadata": {
    "collapsed": false
   },
   "outputs": [],
   "source": [
    "Cos_norm = []\n",
    "for u in xrange(num_user):\n",
    "    Cos_norm.append(math.sqrt(np.dot(Rij[u], Rij[u])))\n",
    "\n",
    "Cos = np.dot(Rij, Rij.T)\n",
    "for i in xrange(num_user):\n",
    "    for j in xrange(num_user):\n",
    "        if Cos_norm[i] and Cos_norm[j]:\n",
    "            Cos[i][j] = Cos[i][j]/Cos_norm[i]/Cos_norm[j]\n",
    "        else: \n",
    "            Cos[i][j] = 0\n",
    "\n",
    "CR = np.dot(Cos, Rij)\n",
    "CS = np.dot(Cos, Sij)"
   ]
  },
  {
   "cell_type": "code",
   "execution_count": null,
   "metadata": {
    "collapsed": false
   },
   "outputs": [],
   "source": [
    "row = np.array([])\n",
    "col = np.array([])\n",
    "val = np.array([])\n",
    "Vij = csr_matrix((val,(row,col)), shape=(num_user,num_business)).toarray()\n",
    "\n",
    "for i in xrange(num_user):\n",
    "    for j in xrange(num_business):\n",
    "        if US[i][j]: Vij[i][j] = lbd3*UR[i][j]/US[i][j]\n",
    "        elif TS[i][j]: Vij[i][j] = lbd2*TR[i][j]/TS[i][j]\n",
    "        elif CS[i][j]: Vij[i][j] = lbd1*CR[i][j]/CS[i][j]   \n",
    "\n",
    "row = np.array([])\n",
    "col = np.array([])\n",
    "val = np.array([])\n",
    "SocialIn = csr_matrix((val,(row,col)), shape=(num_user,num_business)).toarray()\n",
    "for i in xrange(num_user):\n",
    "    for j in xrange(num_business):\n",
    "        val = Ubb[i][j] + Vij[i][j]\n",
    "        if val < 1: val = 1\n",
    "        if val > 5: val = 5\n",
    "        SocialIn[i][j] = val\n",
    "\n",
    "SocialInPd = []\n",
    "for r in xrange(num_test):\n",
    "    SocialInPd.append(SocialIn[test_user[r]][test_business[r]]) \n",
    "\n",
    "SocialInPd_rmse = mean_squared_error(test_rating, SocialInPd)  \n",
    "print SocialInPd_rmse"
   ]
  },
  {
   "cell_type": "markdown",
   "metadata": {},
   "source": [
    "lbd1 = 0.5 1.23120608177\n",
    "       \n",
    "lbd2 = 0.5 0.805419301317\n",
    "\n",
    "lbd3 = 0.5 0.796815346167\n"
   ]
  },
  {
   "cell_type": "code",
   "execution_count": null,
   "metadata": {
    "collapsed": false
   },
   "outputs": [],
   "source": [
    "print \"Ubb_rmse =\", Ubb_rmse\n",
    "print \"BasicPd_rmse =\", BasicPd_rmse\n",
    "print \"TopicInPd_rmse =\", TopicInPd_rmse\n",
    "print \"SocialInPd_rmse =\", SocialInPd_rmse"
   ]
  },
  {
   "cell_type": "code",
   "execution_count": null,
   "metadata": {
    "collapsed": true
   },
   "outputs": [],
   "source": []
  }
 ],
 "metadata": {
  "kernelspec": {
   "display_name": "Python 2",
   "language": "python",
   "name": "python2"
  },
  "language_info": {
   "codemirror_mode": {
    "name": "ipython",
    "version": 2
   },
   "file_extension": ".py",
   "mimetype": "text/x-python",
   "name": "python",
   "nbconvert_exporter": "python",
   "pygments_lexer": "ipython2",
   "version": "2.7.12"
  }
 },
 "nbformat": 4,
 "nbformat_minor": 0
}
