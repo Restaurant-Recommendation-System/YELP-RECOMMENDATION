{
 "cells": [
  {
   "cell_type": "code",
   "execution_count": 1,
   "metadata": {
    "collapsed": false
   },
   "outputs": [],
   "source": [
    "f1 = open('review_5k_user', 'r').read()\n",
    "review_5k_user = eval(f1)\n",
    "\n",
    "f2 = open('review_5k_business', 'r').read()\n",
    "review_5k_business = eval(f2)\n",
    "\n",
    "f3 = open('review_5k_rating', 'r').read()\n",
    "review_5k_rating = eval(f3)\n",
    "\n",
    "f4 = open('relation_5k', 'r').read()\n",
    "relation_5k = eval(f4)\n"
   ]
  },
  {
   "cell_type": "code",
   "execution_count": 51,
   "metadata": {
    "collapsed": true
   },
   "outputs": [],
   "source": [
    "import math\n",
    "import numpy as np\n",
    "from scipy.sparse import csr_matrix\n",
    "from sklearn.metrics import mean_squared_error\n",
    "import networkx as nx"
   ]
  },
  {
   "cell_type": "code",
   "execution_count": 3,
   "metadata": {
    "collapsed": true
   },
   "outputs": [],
   "source": [
    "num_user = 4929\n",
    "num_business = 2686\n",
    "num_review = 49486"
   ]
  },
  {
   "cell_type": "code",
   "execution_count": 4,
   "metadata": {
    "collapsed": false
   },
   "outputs": [],
   "source": [
    "row = np.array([])\n",
    "col = np.array([])\n",
    "val = np.array([])"
   ]
  },
  {
   "cell_type": "code",
   "execution_count": 5,
   "metadata": {
    "collapsed": false
   },
   "outputs": [],
   "source": [
    "Tij = csr_matrix((val,(row,col)), shape=(num_user,num_user)).toarray()\n",
    "for u in relation_5k:\n",
    "    for f in u[1]:\n",
    "        Tij[u[0]][f] = 1"
   ]
  },
  {
   "cell_type": "code",
   "execution_count": 6,
   "metadata": {
    "collapsed": false
   },
   "outputs": [],
   "source": [
    "Rij = csr_matrix((val,(row,col)), shape=(num_user,num_business)).toarray()\n",
    "for r in xrange(num_review):\n",
    "    Rij[review_5k_user[r]][review_5k_business[r]] = review_5k_rating[r]"
   ]
  },
  {
   "cell_type": "code",
   "execution_count": 7,
   "metadata": {
    "collapsed": false
   },
   "outputs": [],
   "source": [
    "Sij_norm = []\n",
    "for u in xrange(num_user):\n",
    "    Sij_norm.append(math.sqrt(np.dot(Rij[u], Rij[u])))"
   ]
  },
  {
   "cell_type": "code",
   "execution_count": 8,
   "metadata": {
    "collapsed": false
   },
   "outputs": [],
   "source": [
    "Sij = np.dot(Rij, Rij.T)"
   ]
  },
  {
   "cell_type": "code",
   "execution_count": 10,
   "metadata": {
    "collapsed": false
   },
   "outputs": [],
   "source": [
    "for i in xrange(num_user):\n",
    "    for j in xrange(num_user):\n",
    "        Sij[i][j] = Sij[i][j]/Sij_norm[i]/Sij_norm[j]"
   ]
  },
  {
   "cell_type": "code",
   "execution_count": 57,
   "metadata": {
    "collapsed": false
   },
   "outputs": [],
   "source": [
    "import networkx as nx\n",
    "\n",
    "node_list = []\n",
    "for u in xrange(num_user):\n",
    "    node_list.append(u)\n"
   ]
  },
  {
   "cell_type": "code",
   "execution_count": 58,
   "metadata": {
    "collapsed": false
   },
   "outputs": [],
   "source": [
    "G=nx.Graph()\n",
    "G.add_nodes_from(node_list)\n",
    "for u in relation_5k:\n",
    "    for f in u[1]:\n",
    "        G.add_edge(u[0], f)"
   ]
  },
  {
   "cell_type": "code",
   "execution_count": 64,
   "metadata": {
    "collapsed": false
   },
   "outputs": [],
   "source": [
    "PR = nx.pagerank(G)"
   ]
  },
  {
   "cell_type": "code",
   "execution_count": 96,
   "metadata": {
    "collapsed": false
   },
   "outputs": [],
   "source": [
    "from operator import itemgetter\n",
    "sorted_PR = sorted(PR.items(), key=itemgetter(1), reverse=True)\n"
   ]
  },
  {
   "cell_type": "code",
   "execution_count": 100,
   "metadata": {
    "collapsed": false
   },
   "outputs": [],
   "source": [
    "rank = {}\n",
    "for u in xrange(num_user):\n",
    "    rank[sorted_PR[u][0]] = u"
   ]
  },
  {
   "cell_type": "code",
   "execution_count": 125,
   "metadata": {
    "collapsed": false
   },
   "outputs": [],
   "source": [
    "Ri = []\n",
    "for u in xrange(num_user):\n",
    "    Ri.append(rank[u]+1)"
   ]
  },
  {
   "cell_type": "code",
   "execution_count": 126,
   "metadata": {
    "collapsed": false
   },
   "outputs": [],
   "source": [
    "Wi = []\n",
    "for ri in Ri:\n",
    "    Wi.append(1.0/(1.0+ math.log(ri)))\n",
    "\n",
    "    "
   ]
  },
  {
   "cell_type": "code",
   "execution_count": null,
   "metadata": {
    "collapsed": true
   },
   "outputs": [],
   "source": []
  },
  {
   "cell_type": "code",
   "execution_count": null,
   "metadata": {
    "collapsed": true
   },
   "outputs": [],
   "source": []
  }
 ],
 "metadata": {
  "kernelspec": {
   "display_name": "Python 2",
   "language": "python",
   "name": "python2"
  },
  "language_info": {
   "codemirror_mode": {
    "name": "ipython",
    "version": 2
   },
   "file_extension": ".py",
   "mimetype": "text/x-python",
   "name": "python",
   "nbconvert_exporter": "python",
   "pygments_lexer": "ipython2",
   "version": "2.7.12"
  }
 },
 "nbformat": 4,
 "nbformat_minor": 0
}
